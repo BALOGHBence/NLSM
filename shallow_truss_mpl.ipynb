{
 "cells": [
  {
   "cell_type": "markdown",
   "source": [
    "# **NONLINEAR ANALYSIS OF A SHALLOW TRUSS**\r\n",
    "***"
   ],
   "metadata": {}
  },
  {
   "cell_type": "markdown",
   "source": [
    "## **Import statements**"
   ],
   "metadata": {}
  },
  {
   "cell_type": "markdown",
   "source": [
    "This a matter of taste, but we usually tend to do all our `import` statements at the beginning of a session. This practice makes it easy to see the dependencies of a notebook at the get-go, and also helps you to write well organized code."
   ],
   "metadata": {}
  },
  {
   "cell_type": "code",
   "execution_count": 2,
   "source": [
    "import numpy as np\r\n",
    "from scipy.optimize import newton as Newton, minimize\r\n",
    "import matplotlib.pyplot as plt\r\n",
    "from time import time"
   ],
   "outputs": [],
   "metadata": {}
  },
  {
   "cell_type": "markdown",
   "source": [
    "## **Input data**"
   ],
   "metadata": {}
  },
  {
   "cell_type": "markdown",
   "source": [
    "First, we declare some constants that are assumed to be fixed through the session.\r\n",
    "In most cases we are working with only numbers, so it is good practice to explicitly declare the base units that are used, so that other units can be derived from them."
   ],
   "metadata": {}
  },
  {
   "cell_type": "markdown",
   "source": [
    "> In this notebook, we are going to use units of $m$ and $kN$."
   ],
   "metadata": {}
  },
  {
   "cell_type": "markdown",
   "source": [
    "It is good practice to separate independent parameters (that someone else can or should modify to customize the calculations for the same problem with other dataparameters) and parameters that depend on the independent parameters (and should not be modified). Anyhow, **instructions on how to use your work should be clear and straightforward**."
   ],
   "metadata": {}
  },
  {
   "cell_type": "code",
   "execution_count": 3,
   "source": [
    "# INDEPENDENT PARAMETERS - you can modify these\r\n",
    "b = 10.  # half of the total width of the structure in [m]\r\n",
    "h = 0.5  # initial height of the structure in [m]\r\n",
    "EA = 5000.  # <Young's modulus> * <Cross sectional area> in [kN/m2]\r\n",
    "\r\n",
    "# DEPENDENT PARAMETERS - do not modify these\r\n",
    "l0 = np.sqrt(h**2 + b**2)  # initial length of a truss member"
   ],
   "outputs": [],
   "metadata": {}
  },
  {
   "cell_type": "markdown",
   "source": [
    "## **Processing**"
   ],
   "metadata": {}
  },
  {
   "cell_type": "markdown",
   "source": [
    "We declare two functions, that basically do the same thing. The only difference is the order of the arguments. We will use the fist to run *force-controlled*, and the second to run *displacement-controlled* calculations."
   ],
   "metadata": {}
  },
  {
   "cell_type": "markdown",
   "source": [
    "> It's good practice to always write [docstrings](https://www.programiz.com/python-programming/docstrings#:~:text=Python%20docstrings%20are%20the%20string%20literals%20that%20appear,%28%29%20as%20it%20appears%20right%20after%20its%20definition.) for your functions. You might think that you should only do this for a possible audience, but later you will thank me if you get used to writing docstrings."
   ],
   "metadata": {}
  },
  {
   "cell_type": "code",
   "execution_count": 5,
   "source": [
    "def R(b, h, EA, k, F):\r\n",
    "    \"\"\"\r\n",
    "    Returns the residual for a candidate solution. \r\n",
    "    Optimal for a force-controlled scenario.\r\n",
    "    \"\"\"\r\n",
    "    def inner(v):\r\n",
    "        l = np.sqrt((h-v)**2 + b**2)\r\n",
    "        return F - k*v + EA*((l-l0)/l0)*((h-v)/l0)\r\n",
    "    return inner"
   ],
   "outputs": [],
   "metadata": {}
  },
  {
   "cell_type": "markdown",
   "source": [],
   "metadata": {}
  },
  {
   "cell_type": "code",
   "execution_count": null,
   "source": [
    "def Q(b, h, EA, k, v):\r\n",
    "    \"\"\"\r\n",
    "    Returns the residual for a candidate solution. \r\n",
    "    Optimal for a displacement-controlled scenario.\r\n",
    "    \"\"\"\r\n",
    "    def inner(F):\r\n",
    "        l = np.sqrt((h-v)**2 + b**2)\r\n",
    "        return F - k*v + EA*((l-l0)/l0)*((h-v)/l0)\r\n",
    "    return inner"
   ],
   "outputs": [],
   "metadata": {}
  },
  {
   "cell_type": "markdown",
   "source": [
    "We perform an initial calculation. Here we also illustrate two equivalent ways of finding an approximate solution to our problem and a simple way to measure execution time of the two implementations. We're gonna continue working with the one that runs faster."
   ],
   "metadata": {}
  },
  {
   "cell_type": "code",
   "execution_count": 6,
   "source": [
    "Fmax = 1.5  # kN\r\n",
    "kmax = 1.  # kN/m\r\n",
    "\r\n",
    "# solution by findig roots of a nonlinear function\r\n",
    "residual = R(b, h, EA, kmax, Fmax)\r\n",
    "t0 = time()\r\n",
    "vmax = Newton(residual, 0)\r\n",
    "dt_Newton = (time()-t0)*1000\r\n",
    "print(\"Solution by root finding({} ms) : {}\".format(dt_Newton, vmax))\r\n",
    "\r\n",
    "# solution by minimizing an error measure\r\n",
    "error = lambda x : residual(x[0])**2\r\n",
    "t0 = time()\r\n",
    "vmax_ = minimize(error, [0], method='Nelder-Mead', tol=1e-8).x[0]\r\n",
    "dt_Nelder_Mead = (time()-t0)*1000\r\n",
    "print(\"Solution by minimizing error({} ms) : {}\".format(dt_Nelder_Mead, vmax_))\r\n",
    "\r\n",
    "# make a print statement with a one-liner conditional\r\n",
    "print(\"{} is quicker!\".format(\"Newton\" if dt_Newton <= dt_Nelder_Mead else \"Nelder-Mead\"))"
   ],
   "outputs": [
    {
     "output_type": "stream",
     "name": "stdout",
     "text": [
      "Solution by root finding(0.0 ms) : 1.1695310638900063\n",
      "Solution by minimizing error(3.0007362365722656 ms) : 1.1695310668945325\n",
      "Newton is quicker!\n"
     ]
    }
   ],
   "metadata": {}
  },
  {
   "cell_type": "markdown",
   "source": [
    "Here we define convenience functions that run a sequence of analysis for a given spring stiffness. The function `run_F` is for force-controlled calculations, the function `run_D` is for displacement-controlled calculations."
   ],
   "metadata": {}
  },
  {
   "cell_type": "code",
   "execution_count": 936,
   "source": [
    "def run_F(k, N=15):\r\n",
    "    \"\"\"\r\n",
    "    Convenience function that returns lists of displacements \r\n",
    "    and forces resulting from a force-controlled analysis. \r\n",
    "    The maximum load value `Fmax` is reached in a number of `N` steps.\r\n",
    "    \"\"\"\r\n",
    "    f_ext = []\r\n",
    "    f_int = []\r\n",
    "    disp = []\r\n",
    "    v_prev = 0\r\n",
    "    for i in range(N):\r\n",
    "        Fi = i * Fmax / N\r\n",
    "        ri = R(b, h, EA, k, Fi)\r\n",
    "        try:\r\n",
    "            vi = Newton(ri, v_prev)\r\n",
    "            if vi <= vmax:\r\n",
    "                li = np.sqrt((h-vi)**2 + b**2)\r\n",
    "                Ni = EA * (li-l0)/l0\r\n",
    "                f_ext.append(Fi)\r\n",
    "                f_int.append(Ni)\r\n",
    "                disp.append(vi)\r\n",
    "                v_prev = vi\r\n",
    "        except:\r\n",
    "            pass\r\n",
    "    return {'d' : disp, 'f_ext' : f_ext, 'f_int' : f_int}\r\n",
    "\r\n",
    "def run_D(k, N=15):\r\n",
    "    \"\"\"\r\n",
    "    Convenience function that returns lists of displacements \r\n",
    "    and forces resulting from a displacement-controlled analysis. \r\n",
    "    The maximum displacement value `vmax` is reached in a number \r\n",
    "    of `N` steps.\r\n",
    "    \"\"\"\r\n",
    "    f_ext = []\r\n",
    "    f_int = []\r\n",
    "    disp = []\r\n",
    "    F_prev = 0\r\n",
    "    for i in range(N):\r\n",
    "        vi = i * vmax / N\r\n",
    "        ri = Q(b, h, EA, k, vi)\r\n",
    "        try:\r\n",
    "            Fi = Newton(ri, F_prev)\r\n",
    "            if Fi <= Fmax:\r\n",
    "                li = np.sqrt((h-vi)**2 + b**2)\r\n",
    "                Ni = EA * (li-l0)/l0\r\n",
    "                f_ext.append(Fi)\r\n",
    "                f_int.append(Ni)\r\n",
    "                disp.append(vi)\r\n",
    "                F_prev = Fi\r\n",
    "        except:\r\n",
    "            pass\r\n",
    "    return {'d' : disp, 'f_ext' : f_ext, 'f_int' : f_int}"
   ],
   "outputs": [],
   "metadata": {}
  },
  {
   "cell_type": "code",
   "execution_count": 937,
   "source": [
    "# a sequence of tuples for springs  containing\r\n",
    "# (stiffness, marker, color)\r\n",
    "springs = [(1.0, 'o', 'blue'), (0.5, '*', 'green'), (0., '^', 'red')]  \r\n",
    "db_F = [run_F(k) for k, *_ in springs]  # force-controlled solutions\r\n",
    "db_D = [run_D(k) for k, *_ in springs]  # displacement-controlled solutions"
   ],
   "outputs": [],
   "metadata": {}
  },
  {
   "cell_type": "markdown",
   "source": [
    "## **Displaying results**"
   ],
   "metadata": {}
  },
  {
   "cell_type": "markdown",
   "source": [
    "And of course, we do a little plotting. `matplotlib` provides a sea of examples, and we can quickly build a plot with minimal effort."
   ],
   "metadata": {}
  },
  {
   "cell_type": "code",
   "execution_count": 938,
   "source": [
    "# dictionary of tick parameters\r\n",
    "# For more on customizing matplotlib plots:\r\n",
    "# https://matplotlib.org/stable/tutorials/introductory/customizing.html\r\n",
    "plotparams = {\"xtick.direction\" : \"inout\", \"ytick.direction\" : \"inout\",\r\n",
    "              \"xtick.major.size\" : 5, \"ytick.major.size\" : 5,\r\n",
    "              \"font.size\" : 8}\r\n",
    "   \r\n",
    "def decorate_ax(ax, legend=True, xlabel=None, ylabel=None):\r\n",
    "    # labels, grid and legend\r\n",
    "    if xlabel is not None:\r\n",
    "        ax.set_xlabel(xlabel)\r\n",
    "    if ylabel is not None:\r\n",
    "        ax.set_ylabel(ylabel)\r\n",
    "    ax.grid(axis='x', lw = 0.5, linestyle='--', color='black')\r\n",
    "    ax.grid(axis='y', lw = 0.5, linestyle='--', color='black')\r\n",
    "    if legend:\r\n",
    "        ax.legend(loc='upper center', fontsize=8)\r\n",
    "    \r\n",
    "    # spines with arrowheads\r\n",
    "    ax.spines['left'].set_color('none')\r\n",
    "    ax.spines['bottom'].set_color('none')\r\n",
    "    ax.spines['top'].set_color('none')\r\n",
    "    ax.spines['right'].set_color('none')\r\n",
    "    ax.axvline(x=0, color='black', lw=1)\r\n",
    "    ax.axhline(y=0, color='black', lw=1)\r\n",
    "    ax.plot((1), (0), ls=\"\", marker=\">\", ms=5, color=\"black\", \r\n",
    "            transform=ax.get_yaxis_transform(), clip_on=False)\r\n",
    "    ax.plot((0), (1), ls=\"\", marker=\"^\", ms=5, color=\"black\", \r\n",
    "            transform=ax.get_xaxis_transform(), clip_on=False)"
   ],
   "outputs": [],
   "metadata": {}
  },
  {
   "cell_type": "code",
   "execution_count": 940,
   "source": [
    "with plt.style.context('default'), plt.rc_context(plotparams):\r\n",
    "      # we create teh figure and the plots in advance\r\n",
    "      fig = plt.figure(figsize=(8, 3))  # in inches\r\n",
    "      \r\n",
    "      # force-controlled plots\r\n",
    "      ax1 = fig.add_subplot(1, 3, 1)\r\n",
    "      for i, (k, m, c) in enumerate(springs):\r\n",
    "            label = 'k = {} kN/m'.format(k) \r\n",
    "            ax1.plot(db_F[i]['d'], db_F[i]['f_ext'], label=label, marker=m, markersize=5, color=c)\r\n",
    "      ax1.set_title('(a)')\r\n",
    "      decorate_ax(ax1, xlabel='v [m]', ylabel='F [kN]')\r\n",
    "      \r\n",
    "      # displacement-controlled plots\r\n",
    "      ax2 = fig.add_subplot(1, 3, 2, sharex=ax1, sharey=ax1)\r\n",
    "      for i, (k, m, c) in enumerate(springs):\r\n",
    "            label = 'k = {} kN/m'.format(k) \r\n",
    "            ax2.plot(db_D[i]['d'], db_D[i]['f_ext'], label=label, marker=m, markersize=5, color=c)\r\n",
    "      ax2.set_title('(b)')\r\n",
    "      decorate_ax(ax2, xlabel='v [m]', ylabel='F [kN]')\r\n",
    "      \r\n",
    "      # internal force\r\n",
    "      ax3 = fig.add_subplot(1, 3, 3, sharex=ax1)\r\n",
    "      ax3.plot(db_D[0]['d'], db_D[0]['f_int'])\r\n",
    "      ax3.set_title('(c)')\r\n",
    "      decorate_ax(ax3, legend=False, xlabel='v [m]', ylabel='N [kN]')\r\n",
    "            \r\n",
    "      # show the plots\r\n",
    "      plt.subplots_adjust(wspace=0.3)\r\n",
    "      plt.show()"
   ],
   "outputs": [
    {
     "output_type": "display_data",
     "data": {
      "image/png": "[encoded data removed]",
      "text/plain": [
       "<Figure size 800x300 with 3 Axes>"
      ]
     },
     "metadata": {}
    }
   ],
   "metadata": {}
  }
 ],
 "metadata": {
  "orig_nbformat": 4,
  "language_info": {
   "name": "python",
   "version": "3.8.10",
   "mimetype": "text/x-python",
   "codemirror_mode": {
    "name": "ipython",
    "version": 3
   },
   "pygments_lexer": "ipython3",
   "nbconvert_exporter": "python",
   "file_extension": ".py"
  },
  "kernelspec": {
   "name": "python3",
   "display_name": "Python 3.8.10 64-bit"
  },
  "interpreter": {
   "hash": "e404b59586357c814bc0d3940e75d6763c00a48753b225b81f7716971b8e1741"
  }
 },
 "nbformat": 4,
 "nbformat_minor": 2
}