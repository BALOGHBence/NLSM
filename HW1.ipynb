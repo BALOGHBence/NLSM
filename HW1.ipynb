{
 "cells": [
  {
   "cell_type": "markdown",
   "metadata": {
    "slideshow": {
     "slide_type": "slide"
    }
   },
   "source": [
    "# **NONLINEAR ANALYSIS OF A SHALLOW TRUSS IN PYTHON**\n",
    "***"
   ]
  },
  {
   "cell_type": "markdown",
   "metadata": {},
   "source": [
    "First we do our import statements"
   ]
  },
  {
   "cell_type": "code",
   "execution_count": 23,
   "metadata": {
    "execution": {
     "iopub.execute_input": "2021-10-05T14:34:14.241Z",
     "iopub.status.busy": "2021-10-05T14:34:14.231Z",
     "iopub.status.idle": "2021-10-05T14:34:14.251Z",
     "shell.execute_reply": "2021-10-05T14:34:14.103Z"
    },
    "jupyter": {
     "outputs_hidden": false,
     "source_hidden": false
    },
    "slideshow": {
     "slide_type": "fragment"
    },
    "tags": []
   },
   "outputs": [],
   "source": [
    "from numpy import sqrt\n",
    "from scipy.optimize import newton, minimize\n",
    "import matplotlib.pyplot as plt"
   ]
  },
  {
   "cell_type": "markdown",
   "metadata": {
    "slideshow": {
     "slide_type": "subslide"
    }
   },
   "source": [
    "The following set of parameters constitute a well-behaving problem:"
   ]
  },
  {
   "cell_type": "code",
   "execution_count": 2,
   "metadata": {
    "execution": {
     "iopub.execute_input": "2021-10-05T14:34:14.276Z",
     "iopub.status.busy": "2021-10-05T14:34:14.266Z",
     "iopub.status.idle": "2021-10-05T14:34:14.287Z",
     "shell.execute_reply": "2021-10-05T14:34:14.116Z"
    },
    "slideshow": {
     "slide_type": "fragment"
    }
   },
   "outputs": [],
   "source": [
    "# Units are understood in [kN] and [m]\n",
    "b = 10.  #  half of the total width of the structure in [m]\n",
    "h = 0.5  # initial height of the structure in [m]\n",
    "EA = 5000.  # <Young's modulus> * <Cross sectional area> in [kN/m2]\n",
    "k = 1.0  # spring stiffness [kN/m]\n",
    "F = 1.5  # applied load in [kN]"
   ]
  },
  {
   "cell_type": "markdown",
   "metadata": {
    "slideshow": {
     "slide_type": "slide"
    }
   },
   "source": [
    "## **EQUILIBRIUM APPROACH**"
   ]
  },
  {
   "cell_type": "markdown",
   "metadata": {
    "slideshow": {
     "slide_type": "fragment"
    }
   },
   "source": [
    "We use the equilibrium equations to create two residual functions, one for force-controlled and another for displacement-controlled calculations."
   ]
  },
  {
   "cell_type": "markdown",
   "metadata": {
    "slideshow": {
     "slide_type": "slide"
    }
   },
   "source": [
    "### § **FORCE-CONTROLLED ANALYSIS**\n",
    "\n",
    "The first one looks like:\n",
    "$$\n",
    "R(v) = F - k v + K \\left( l(v)-l_0 \\right) \\frac{h-v}{l(v)}\n",
    "$$"
   ]
  },
  {
   "cell_type": "code",
   "execution_count": 3,
   "metadata": {
    "execution": {
     "iopub.execute_input": "2021-10-05T14:34:14.313Z",
     "iopub.status.busy": "2021-10-05T14:34:14.303Z",
     "iopub.status.idle": "2021-10-05T14:34:14.323Z",
     "shell.execute_reply": "2021-10-05T14:34:14.129Z"
    },
    "slideshow": {
     "slide_type": "fragment"
    }
   },
   "outputs": [],
   "source": [
    "def R(F):\n",
    "    \"\"\"\n",
    "    Returns the residual function R(v). \n",
    "    Optimal for a force-controlled analysis, \n",
    "    where this function is called in succession \n",
    "    for different (probably increasing) load values.\n",
    "    \"\"\"\n",
    "    l0 = sqrt(h**2 + b**2)\n",
    "    def inner(v):\n",
    "        l = sqrt((h-v)**2 + b**2)\n",
    "        return F - k*v + EA*((l-l0)/l0)*((h-v)/l)\n",
    "    return inner"
   ]
  },
  {
   "cell_type": "markdown",
   "metadata": {
    "slideshow": {
     "slide_type": "slide"
    }
   },
   "source": [
    "We also make a version of this with the approximation $l(v) \\approx l0$, so that we can observe it's validity on our problem."
   ]
  },
  {
   "cell_type": "code",
   "execution_count": 4,
   "metadata": {
    "execution": {
     "iopub.execute_input": "2021-10-05T14:34:14.347Z",
     "iopub.status.busy": "2021-10-05T14:34:14.337Z",
     "iopub.status.idle": "2021-10-05T14:34:14.357Z",
     "shell.execute_reply": "2021-10-05T14:34:14.139Z"
    },
    "slideshow": {
     "slide_type": "fragment"
    }
   },
   "outputs": [],
   "source": [
    "def R_(F):\n",
    "    \"\"\"\n",
    "    Returns the residual function R(v). \n",
    "    Optimal for a force-controlled analysis, \n",
    "    where this function is called in succession \n",
    "    for different (probably increasing) load values.\n",
    "    This version assumes the validity of the \n",
    "    approximation |l < l0| << 1.\n",
    "    \"\"\"\n",
    "    l0 = sqrt(h**2 + b**2)\n",
    "    def inner(v):\n",
    "        l = sqrt((h-v)**2 + b**2)\n",
    "        return F - k*v + EA*((l-l0)/l0)*((h-v)/l0)\n",
    "    return inner"
   ]
  },
  {
   "cell_type": "markdown",
   "metadata": {
    "slideshow": {
     "slide_type": "slide"
    }
   },
   "source": [
    "We use `scipy.optimize.newton` to find the roots of our equations. It needs to be fed with a callable object and an initial guess for the result: "
   ]
  },
  {
   "cell_type": "code",
   "execution_count": 5,
   "metadata": {
    "execution": {
     "iopub.execute_input": "2021-10-05T14:34:14.385Z",
     "iopub.status.busy": "2021-10-05T14:34:14.374Z",
     "iopub.status.idle": "2021-10-05T14:34:14.402Z",
     "shell.execute_reply": "2021-10-05T14:34:14.155Z"
    },
    "slideshow": {
     "slide_type": "fragment"
    }
   },
   "outputs": [
    {
     "name": "stdout",
     "output_type": "stream",
     "text": [
      "A result of F = 1.5 [kN] is the displacement v = 1.1696187845864412 [m].\n",
      "A result of F = 1.5 [kN] is the displacement v = 1.1695310638900063 [m].\n"
     ]
    }
   ],
   "source": [
    "# solution by findig roots of a nonlinear function\n",
    "v = newton(R(F), 0)\n",
    "print(\"A result of F = {} [kN] is the displacement v = {} [m].\".format(F, v))\n",
    "# solution by findig roots of a nonlinear function using the approximation l = l0\n",
    "v = newton(R_(F), 0)\n",
    "print(\"A result of F = {} [kN] is the displacement v = {} [m].\".format(F, v))"
   ]
  },
  {
   "cell_type": "markdown",
   "metadata": {
    "slideshow": {
     "slide_type": "slide"
    }
   },
   "source": [
    "In certain circumstances, Newton's method can fail, so we create a wrapper function around `scipy`'s `newton` method that returns `None` if things go wrong during execution."
   ]
  },
  {
   "cell_type": "code",
   "execution_count": 6,
   "metadata": {
    "execution": {
     "iopub.execute_input": "2021-10-05T14:34:14.425Z",
     "iopub.status.busy": "2021-10-05T14:34:14.415Z",
     "iopub.status.idle": "2021-10-05T14:34:14.435Z",
     "shell.execute_reply": "2021-10-05T14:34:14.172Z"
    },
    "slideshow": {
     "slide_type": "fragment"
    }
   },
   "outputs": [],
   "source": [
    "def root(fnc, x0=0, verbose=False):\n",
    "    \"\"\"Returns None if things go wrong, returns the\n",
    "    root(s) of `fnc`. If `verbose` is `True` and \n",
    "    things go wrong, it prints the error message.\"\"\"\n",
    "    try:\n",
    "        return newton(fnc, x0)\n",
    "    except Exception as e:\n",
    "        if verbose:\n",
    "            print(e)\n",
    "        return None"
   ]
  },
  {
   "cell_type": "markdown",
   "metadata": {
    "slideshow": {
     "slide_type": "slide"
    }
   },
   "source": [
    "We apply the force in small steps, and we execute the previous calculation. In every substep, the initial guess is the result of the last substep. We also plot the evolution of the force-displacement diagram using `matplotlib`."
   ]
  },
  {
   "cell_type": "markdown",
   "metadata": {
    "slideshow": {
     "slide_type": "subslide"
    }
   },
   "source": [
    "First we prepare the data to plot."
   ]
  },
  {
   "cell_type": "code",
   "execution_count": 7,
   "metadata": {
    "execution": {
     "iopub.execute_input": "2021-10-05T14:34:14.456Z",
     "iopub.status.busy": "2021-10-05T14:34:14.448Z",
     "iopub.status.idle": "2021-10-05T14:34:14.466Z",
     "shell.execute_reply": "2021-10-05T14:34:14.204Z"
    },
    "slideshow": {
     "slide_type": "fragment"
    }
   },
   "outputs": [],
   "source": [
    "k = 1.0  # overwrite the spring stiffness here if you want\n",
    "nstep = 20\n",
    "ydata = [(i+1)*F/nstep for i in range(nstep)]\n",
    "xdata1, xdata2 = [], []\n",
    "ydata1, ydata2 = [], []\n",
    "v1, v2 = 0, 0\n",
    "v1_, v2_ = 0, 0\n",
    "\n",
    "for Fi in ydata:\n",
    "    v1_ = root(R(Fi), v1)\n",
    "    if v1_:\n",
    "        v1 = v1_\n",
    "        xdata1.append(v1)\n",
    "        ydata1.append(Fi)\n",
    "    v2_ = root(R_(Fi), v2)\n",
    "    if v2_:\n",
    "        v2 = v2_\n",
    "        xdata2.append(v2)\n",
    "        ydata2.append(Fi)"
   ]
  },
  {
   "cell_type": "markdown",
   "metadata": {
    "slideshow": {
     "slide_type": "subslide"
    }
   },
   "source": [
    "Then the plot itself."
   ]
  },
  {
   "cell_type": "code",
   "execution_count": 8,
   "metadata": {
    "execution": {
     "iopub.execute_input": "2021-10-05T14:34:14.488Z",
     "iopub.status.busy": "2021-10-05T14:34:14.480Z",
     "iopub.status.idle": "2021-10-05T14:34:14.506Z",
     "shell.execute_reply": "2021-10-05T14:34:15.138Z"
    },
    "jupyter": {
     "source_hidden": true
    },
    "slideshow": {
     "slide_type": "fragment"
    }
   },
   "outputs": [
    {
     "data": {
      "image/png": "[encoded data removed]",
      "text/plain": [
       "<Figure size 432x288 with 1 Axes>"
      ]
     },
     "metadata": {
      "needs_background": "light"
     },
     "output_type": "display_data"
    }
   ],
   "source": [
    "fig, ax = plt.subplots()\n",
    "ax.plot(xdata1, ydata1, lw=1.0, color='k')\n",
    "markerline, stemlines, baseline = \\\n",
    "    ax.stem(ydata2, xdata2, basefmt='r-', orientation='horizontal', \\\n",
    "        linefmt='r--', markerfmt='bo', label=r\"$l \\approx l_0$\")\n",
    "plt.setp(stemlines, 'linewidth', 1)\n",
    "plt.setp(baseline, 'linewidth', 1) \n",
    "ax.set_xlabel('v [m]')\n",
    "ax.set_ylabel('F [kN]') \n",
    "ax.legend()\n",
    "ax.set_title('Force-controlled solution')\n",
    "plt.ioff()\n",
    "plt.show()"
   ]
  },
  {
   "cell_type": "markdown",
   "metadata": {
    "slideshow": {
     "slide_type": "fragment"
    }
   },
   "source": [
    "The figure shows that approximation $l \\approx l0$ does not have a sigificant effect on the results of our model for this particular set of parameters. Try other parameters to investigate other possible scenarios."
   ]
  },
  {
   "cell_type": "markdown",
   "metadata": {
    "slideshow": {
     "slide_type": "slide"
    }
   },
   "source": [
    "### § **DISPLACEMENT-CONTROLLED ANALYSIS**\n",
    "\n",
    "The difference in the second function is that it considers the displacement to be known and the force to play the role of the unknown, but they basically evaluate the same expression:\n",
    "$$\n",
    "Q(F) = F - k v + K \\left( l(v)-l_0 \\right) \\frac{h-v}{l(v)}\n",
    "$$"
   ]
  },
  {
   "cell_type": "code",
   "execution_count": 9,
   "metadata": {
    "execution": {
     "iopub.execute_input": "2021-10-05T14:34:14.532Z",
     "iopub.status.busy": "2021-10-05T14:34:14.524Z",
     "iopub.status.idle": "2021-10-05T14:34:14.546Z",
     "shell.execute_reply": "2021-10-05T14:34:15.150Z"
    },
    "slideshow": {
     "slide_type": "fragment"
    }
   },
   "outputs": [],
   "source": [
    "def Q(v):\n",
    "    \"\"\"\n",
    "    Returns the residual function Q(F). \n",
    "    Optimal for a force-controlled analysis, \n",
    "    where this function is called in succession \n",
    "    for different (probably increasing) displacement values.\n",
    "    \"\"\"\n",
    "    l0 = sqrt(h**2 + b**2)\n",
    "    def inner(F):\n",
    "        l = sqrt((h-v)**2 + b**2)\n",
    "        return F - k*v + EA*((l-l0)/l0)*((h-v)/l)\n",
    "    return inner\n"
   ]
  },
  {
   "cell_type": "markdown",
   "metadata": {
    "slideshow": {
     "slide_type": "slide"
    }
   },
   "source": [
    "Again, we can measure the effect of the approximation $l(v) \\approx l0$."
   ]
  },
  {
   "cell_type": "code",
   "execution_count": 10,
   "metadata": {
    "execution": {
     "iopub.execute_input": "2021-10-05T14:34:14.568Z",
     "iopub.status.busy": "2021-10-05T14:34:14.560Z",
     "iopub.status.idle": "2021-10-05T14:34:14.583Z",
     "shell.execute_reply": "2021-10-05T14:34:15.155Z"
    },
    "slideshow": {
     "slide_type": "fragment"
    }
   },
   "outputs": [],
   "source": [
    "def Q_(v):\n",
    "    \"\"\"\n",
    "    Returns the residual function Q(F). \n",
    "    Optimal for a force-controlled analysis, \n",
    "    where this function is called in succession \n",
    "    for different (probably increasing) displacement values.\n",
    "    his version assumes the validity of the \n",
    "    approximation |l < l0| << 1.\n",
    "    \"\"\"\n",
    "    l0 = sqrt(h**2 + b**2)\n",
    "    def inner(F):\n",
    "        l = sqrt((h-v)**2 + b**2)\n",
    "        return F - k*v + EA*((l-l0)/l0)*((h-v)/l0)\n",
    "    return inner"
   ]
  },
  {
   "cell_type": "markdown",
   "metadata": {
    "slideshow": {
     "slide_type": "slide"
    }
   },
   "source": [
    "To find the roots, we use the same facility:"
   ]
  },
  {
   "cell_type": "code",
   "execution_count": 11,
   "metadata": {
    "execution": {
     "iopub.execute_input": "2021-10-05T14:34:14.610Z",
     "iopub.status.busy": "2021-10-05T14:34:14.599Z",
     "iopub.status.idle": "2021-10-05T14:34:14.630Z",
     "shell.execute_reply": "2021-10-05T14:34:15.159Z"
    },
    "slideshow": {
     "slide_type": "fragment"
    }
   },
   "outputs": [
    {
     "name": "stdout",
     "output_type": "stream",
     "text": [
      "The reason of displacement v = 1.1695310638900063 [m] is the force F = 1.4996736875114545 [kN].\n"
     ]
    }
   ],
   "source": [
    "# solution by findig roots of a nonlinear function\n",
    "F = root(Q(v), 0)\n",
    "print(\"The reason of displacement v = {} [m] is the force F = {} [kN].\".format(v, F))"
   ]
  },
  {
   "cell_type": "code",
   "execution_count": 12,
   "metadata": {
    "execution": {
     "iopub.execute_input": "2021-10-05T14:34:14.653Z",
     "iopub.status.busy": "2021-10-05T14:34:14.642Z",
     "iopub.status.idle": "2021-10-05T14:34:14.671Z",
     "shell.execute_reply": "2021-10-05T14:34:15.164Z"
    },
    "slideshow": {
     "slide_type": "skip"
    }
   },
   "outputs": [],
   "source": [
    "#k = 0.0  # overwrite the spring stiffness here if you want\n",
    "nstep = 20\n",
    "xdata = [(i+1)*v/nstep for i in range(nstep)]\n",
    "xdata1, xdata2 = [], []\n",
    "ydata1, ydata2 = [], []\n",
    "F1, F2 = 0, 0\n",
    "F1_, F2_ = 0, 0\n",
    "\n",
    "for vi in xdata:\n",
    "    F1_ = root(Q(vi), F1)\n",
    "    if F1_:\n",
    "        F1 = F1_\n",
    "        xdata1.append(vi)\n",
    "        ydata1.append(F1)\n",
    "    F2_ = root(Q_(vi), F2)\n",
    "    if F2_:\n",
    "        F2 = F2_\n",
    "        xdata2.append(vi)\n",
    "        ydata2.append(F2)"
   ]
  },
  {
   "cell_type": "markdown",
   "metadata": {
    "slideshow": {
     "slide_type": "slide"
    }
   },
   "source": [
    "A quick plot:"
   ]
  },
  {
   "cell_type": "code",
   "execution_count": 13,
   "metadata": {
    "execution": {
     "iopub.execute_input": "2021-10-05T14:34:14.694Z",
     "iopub.status.busy": "2021-10-05T14:34:14.685Z",
     "iopub.status.idle": "2021-10-05T14:34:14.716Z",
     "shell.execute_reply": "2021-10-05T14:34:15.169Z"
    },
    "jupyter": {
     "source_hidden": true
    },
    "slideshow": {
     "slide_type": "fragment"
    }
   },
   "outputs": [
    {
     "data": {
      "image/png": "[encoded data removed]",
      "text/plain": [
       "<Figure size 432x288 with 1 Axes>"
      ]
     },
     "metadata": {
      "needs_background": "light"
     },
     "output_type": "display_data"
    }
   ],
   "source": [
    "fig, ax = plt.subplots()\n",
    "ax.plot(xdata1, ydata1, lw=1.0, color='k')\n",
    "markerline, stemlines, baseline = \\\n",
    "    ax.stem(xdata2, ydata2, basefmt='b-', orientation='vertical', \\\n",
    "        linefmt='b--', markerfmt='ro', label=r\"$l \\approx l_0$\")\n",
    "plt.setp(stemlines, 'linewidth', 1)\n",
    "plt.setp(baseline, 'linewidth', 1)\n",
    "ax.set_xlabel('v [m]')\n",
    "ax.set_ylabel('F [kN]')\n",
    "ax.legend()\n",
    "ax.set_title('Displacement-controlled solution')\n",
    "plt.show()"
   ]
  },
  {
   "cell_type": "markdown",
   "metadata": {
    "slideshow": {
     "slide_type": "slide"
    }
   },
   "source": [
    "### § **AN ERROR MEASURE**"
   ]
  },
  {
   "cell_type": "markdown",
   "metadata": {
    "slideshow": {
     "slide_type": "slide"
    }
   },
   "source": [
    " First we implement the custom error measures $G(v) = R(v)^2$ and $H(F) = Q(F)^2$:"
   ]
  },
  {
   "cell_type": "code",
   "execution_count": 14,
   "metadata": {
    "execution": {
     "iopub.execute_input": "2021-10-05T14:34:14.741Z",
     "iopub.status.busy": "2021-10-05T14:34:14.731Z",
     "iopub.status.idle": "2021-10-05T14:34:14.756Z",
     "shell.execute_reply": "2021-10-05T14:34:15.175Z"
    },
    "slideshow": {
     "slide_type": "fragment"
    }
   },
   "outputs": [],
   "source": [
    "residual1 = R(F)\n",
    "G = lambda x : residual1(x[0])**2\n",
    "# for displacement control\n",
    "residual2 = Q(v)\n",
    "H = lambda x : residual2(x[0])**2"
   ]
  },
  {
   "cell_type": "markdown",
   "metadata": {
    "slideshow": {
     "slide_type": "slide"
    }
   },
   "source": [
    "Then we find the minimum of these using Powell's method presented by `scipy`:"
   ]
  },
  {
   "cell_type": "code",
   "execution_count": 15,
   "metadata": {
    "execution": {
     "iopub.execute_input": "2021-10-05T14:34:14.784Z",
     "iopub.status.busy": "2021-10-05T14:34:14.771Z",
     "iopub.status.idle": "2021-10-05T14:34:14.810Z",
     "shell.execute_reply": "2021-10-05T14:34:15.180Z"
    },
    "slideshow": {
     "slide_type": "fragment"
    }
   },
   "outputs": [
    {
     "name": "stdout",
     "output_type": "stream",
     "text": [
      "A result of F = 1.4996736875114545 [kN] is the displacement v = 1.1695310638933072 [m].\n"
     ]
    }
   ],
   "source": [
    "# solution by minimizing an error measure\n",
    "v = minimize(G, [0], method='Powell', tol=1e-8).x[0]\n",
    "print(\"A result of F = {} [kN] is the displacement v = {} [m].\".format(F, v))"
   ]
  },
  {
   "cell_type": "code",
   "execution_count": 16,
   "metadata": {
    "execution": {
     "iopub.execute_input": "2021-10-05T14:34:14.832Z",
     "iopub.status.busy": "2021-10-05T14:34:14.823Z",
     "iopub.status.idle": "2021-10-05T14:34:14.852Z",
     "shell.execute_reply": "2021-10-05T14:34:15.185Z"
    },
    "slideshow": {
     "slide_type": "fragment"
    }
   },
   "outputs": [
    {
     "name": "stdout",
     "output_type": "stream",
     "text": [
      "The reason of displacement v = 1.1695310638933072 [m] is the force F = 1.4996736875114545 [kN].\n"
     ]
    }
   ],
   "source": [
    "# solution by minimizing an error measure\n",
    "F = minimize(H, [0], method='Powell', tol=1e-8).x[0]\n",
    "print(\"The reason of displacement v = {} [m] is the force F = {} [kN].\".format(v, F))"
   ]
  },
  {
   "cell_type": "markdown",
   "metadata": {
    "slideshow": {
     "slide_type": "slide"
    }
   },
   "source": [
    "Now compare this solution against the previous displacement-controlled one."
   ]
  },
  {
   "cell_type": "code",
   "execution_count": 17,
   "metadata": {
    "execution": {
     "iopub.execute_input": "2021-10-05T14:34:14.875Z",
     "iopub.status.busy": "2021-10-05T14:34:14.865Z",
     "iopub.status.idle": "2021-10-05T14:34:14.888Z",
     "shell.execute_reply": "2021-10-05T14:34:15.190Z"
    },
    "slideshow": {
     "slide_type": "skip"
    }
   },
   "outputs": [],
   "source": [
    "#k = 0.0\n",
    "nstep = 20\n",
    "xdataG, xdataH = [], [(i+1)*v/nstep for i in range(nstep)]\n",
    "ydataG, ydataH = [(i+1)*F/nstep for i in range(nstep)], []\n",
    "\n",
    "v_, F_ = 0, 0\n",
    "for Fi, vi in zip(ydataG, xdataH):\n",
    "    ri = R(Fi)\n",
    "    Gi = lambda x : ri(x[0])**2\n",
    "    v_ = minimize(Gi, [v_], method='Powell', tol=1e-8).x[0]\n",
    "    xdataG.append(v_)\n",
    "    ri = Q(vi)\n",
    "    Hi = lambda x : ri(x[0])**2\n",
    "    F_ = minimize(Hi, [F_], method='Powell', tol=1e-8).x[0]\n",
    "    ydataH.append(F_)\n"
   ]
  },
  {
   "cell_type": "code",
   "execution_count": 18,
   "metadata": {
    "execution": {
     "iopub.execute_input": "2021-10-05T14:34:14.912Z",
     "iopub.status.busy": "2021-10-05T14:34:14.903Z",
     "iopub.status.idle": "2021-10-05T14:34:14.935Z",
     "shell.execute_reply": "2021-10-05T14:34:15.195Z"
    },
    "jupyter": {
     "source_hidden": true
    },
    "slideshow": {
     "slide_type": "fragment"
    }
   },
   "outputs": [
    {
     "data": {
      "image/png": "[encoded data removed]",
      "text/plain": [
       "<Figure size 432x288 with 1 Axes>"
      ]
     },
     "metadata": {
      "needs_background": "light"
     },
     "output_type": "display_data"
    }
   ],
   "source": [
    "fig, ax = plt.subplots()\n",
    "ax.plot(xdata2, ydata2, lw=1.0, color='k')\n",
    "markerlineG, stemlinesG, baselineG = \\\n",
    "    ax.stem(ydataG, xdataG, basefmt='r-', orientation='horizontal', \\\n",
    "        linefmt='r--', markerfmt='bo')\n",
    "plt.setp(stemlinesG, 'linewidth', 1)\n",
    "plt.setp(baselineG, 'linewidth', 1)\n",
    "markerlineH, stemlinesH, baselineH = \\\n",
    "    ax.stem(xdataH, ydataH, basefmt='b-', orientation='vertical', \\\n",
    "        linefmt='b--', markerfmt='ro')\n",
    "plt.setp(stemlinesH, 'linewidth', 1)\n",
    "plt.setp(baselineH, 'linewidth', 1)\n",
    "ax.set_xlabel('v [m]')\n",
    "ax.set_ylabel('F [kN]')\n",
    "ax.set_title('Force- vs. displacement-controlled solution')\n",
    "plt.show()"
   ]
  },
  {
   "cell_type": "markdown",
   "metadata": {
    "slideshow": {
     "slide_type": "slide"
    }
   },
   "source": [
    "## **ENERGY APPROACH**"
   ]
  },
  {
   "cell_type": "markdown",
   "metadata": {
    "slideshow": {
     "slide_type": "slide"
    }
   },
   "source": [
    "Below there is a simple implementation of the TPE functional\n",
    "$$\n",
    "\\mathbf{\\Pi}(v) = k v^2 + K \\Delta l(v)^2 - 2 F v\n",
    "$$"
   ]
  },
  {
   "cell_type": "code",
   "execution_count": 19,
   "metadata": {
    "execution": {
     "iopub.execute_input": "2021-10-05T14:34:14.963Z",
     "iopub.status.busy": "2021-10-05T14:34:14.950Z",
     "iopub.status.idle": "2021-10-05T14:34:14.980Z",
     "shell.execute_reply": "2021-10-05T14:34:15.199Z"
    },
    "slideshow": {
     "slide_type": "fragment"
    }
   },
   "outputs": [],
   "source": [
    "def TPE(F):\n",
    "    \"\"\"\n",
    "    Returns the function of the total potential energy.\n",
    "    The returned function takes displacements as inputs\n",
    "    and returns forces.\n",
    "    \"\"\"\n",
    "    l0 = sqrt(h**2 + b**2)\n",
    "    K = EA / l0\n",
    "    def inner(v):\n",
    "        # v is expected as an iterable\n",
    "        l = sqrt((h-v[0])**2 + b**2)\n",
    "        return K*(l-l0)**2 + k*v[0]**2 - 2*F*v[0]\n",
    "    return inner"
   ]
  },
  {
   "cell_type": "markdown",
   "metadata": {
    "slideshow": {
     "slide_type": "slide"
    }
   },
   "source": [
    "To get the minimizer, we can use Powell's method again:"
   ]
  },
  {
   "cell_type": "code",
   "execution_count": 20,
   "metadata": {
    "execution": {
     "iopub.execute_input": "2021-10-05T14:34:15.005Z",
     "iopub.status.busy": "2021-10-05T14:34:14.994Z",
     "iopub.status.idle": "2021-10-05T14:34:15.024Z",
     "shell.execute_reply": "2021-10-05T14:34:15.204Z"
    },
    "slideshow": {
     "slide_type": "fragment"
    }
   },
   "outputs": [
    {
     "name": "stdout",
     "output_type": "stream",
     "text": [
      "A result of F = 1.4996736875114545 [kN] is the displacement v = 1.169531025699906 [m].\n"
     ]
    }
   ],
   "source": [
    "# solution by minimizing an error measure\n",
    "v = minimize(TPE(F), [0], method='Powell', tol=1e-8).x[0]\n",
    "print(\"A result of F = {} [kN] is the displacement v = {} [m].\".format(F, v))"
   ]
  },
  {
   "cell_type": "markdown",
   "metadata": {
    "slideshow": {
     "slide_type": "slide"
    }
   },
   "source": [
    "We can create a simple plot with `matplotlib`:"
   ]
  },
  {
   "cell_type": "code",
   "execution_count": 21,
   "metadata": {
    "execution": {
     "iopub.execute_input": "2021-10-05T14:34:15.047Z",
     "iopub.status.busy": "2021-10-05T14:34:15.037Z",
     "iopub.status.idle": "2021-10-05T14:34:15.061Z",
     "shell.execute_reply": "2021-10-05T14:34:15.208Z"
    },
    "slideshow": {
     "slide_type": "skip"
    }
   },
   "outputs": [],
   "source": [
    "#k = 0.\n",
    "nstep = 20\n",
    "ydata = [(i+1)*F/nstep for i in range(nstep)]\n",
    "xdata = []\n",
    "v = 0\n",
    "for Fi in ydata:\n",
    "    v = minimize(TPE(Fi), [v], method='Powell', tol=1e-8).x[0]\n",
    "    xdata.append(v)"
   ]
  },
  {
   "cell_type": "code",
   "execution_count": 22,
   "metadata": {
    "execution": {
     "iopub.execute_input": "2021-10-05T14:34:15.082Z",
     "iopub.status.busy": "2021-10-05T14:34:15.074Z",
     "iopub.status.idle": "2021-10-05T14:34:15.100Z",
     "shell.execute_reply": "2021-10-05T14:34:15.212Z"
    },
    "slideshow": {
     "slide_type": "fragment"
    }
   },
   "outputs": [
    {
     "data": {
      "image/png": "[encoded data removed]",
      "text/plain": [
       "<Figure size 432x288 with 1 Axes>"
      ]
     },
     "metadata": {
      "needs_background": "light"
     },
     "output_type": "display_data"
    }
   ],
   "source": [
    "fig, ax = plt.subplots()\n",
    "ax.plot(xdata, ydata, color='b')    \n",
    "markerline, stemlines, baseline = \\\n",
    "    ax.stem(ydata, xdata, basefmt='k-', markerfmt='ko', linefmt='k--', \\\n",
    "        orientation='horizontal')\n",
    "plt.setp(stemlines, 'linewidth', 1)\n",
    "plt.setp(baseline, 'linewidth', 1)\n",
    "ax.set_xlabel('v [m]')\n",
    "ax.set_ylabel('F [kN]')\n",
    "ax.set_title('Force-controlled solution')\n",
    "plt.show()"
   ]
  },
  {
   "cell_type": "markdown",
   "metadata": {
    "slideshow": {
     "slide_type": "slide"
    }
   },
   "source": [
    "End of Slideshow..."
   ]
  }
 ],
 "metadata": {
  "gist_id": "c6efacf383483480d7472098e7c48e0b",
  "interpreter": {
   "hash": "e404b59586357c814bc0d3940e75d6763c00a48753b225b81f7716971b8e1741"
  },
  "kernelspec": {
   "display_name": "Python 3.8.10 64-bit",
   "name": "python3"
  },
  "language_info": {
   "codemirror_mode": {
    "name": "ipython",
    "version": 3
   },
   "file_extension": ".py",
   "mimetype": "text/x-python",
   "name": "python",
   "nbconvert_exporter": "python",
   "pygments_lexer": "ipython3",
   "version": "3.8.10"
  },
  "nteract": {
   "version": "0.28.0"
  }
 },
 "nbformat": 4,
 "nbformat_minor": 2
}
