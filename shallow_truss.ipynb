{
 "cells": [
  {
   "cell_type": "markdown",
   "source": [
    "# **NONLINEAR ANALYSIS OF A SHALLOW TRUSS IN PYTHON**\r\n",
    "***"
   ],
   "metadata": {}
  },
  {
   "cell_type": "markdown",
   "source": [
    "<img src=\"img/geom1.png\" width=700 height=200 />"
   ],
   "metadata": {}
  },
  {
   "cell_type": "code",
   "execution_count": 17,
   "source": [
    "from numpy import sqrt\r\n",
    "from scipy.optimize import newton, minimize\r\n",
    "import matplotlib.pyplot as plt"
   ],
   "outputs": [],
   "metadata": {}
  },
  {
   "cell_type": "markdown",
   "source": [
    "The following set of parameters constitute a well-behaving problem:"
   ],
   "metadata": {}
  },
  {
   "cell_type": "code",
   "execution_count": 18,
   "source": [
    "# Units are understood in [kN] and [m]\r\n",
    "b = 10.  # half of the total width of the structure in [m]\r\n",
    "h = 0.5  # initial height of the structure in [m]\r\n",
    "EA = 5000.  # <Young's modulus> * <Cross sectional area> in [kN/m2]\r\n",
    "k = 1.0  # spring stiffness [kN/m]\r\n",
    "F = 1.5  # applied load in [kN]"
   ],
   "outputs": [],
   "metadata": {}
  },
  {
   "cell_type": "markdown",
   "source": [
    "## **EQUILIBRIUM APPROACH**"
   ],
   "metadata": {}
  },
  {
   "cell_type": "markdown",
   "source": [
    "We use the equilibrium equations to create two residual functions, one for force-controlled and another for displacement-controlled calculations."
   ],
   "metadata": {}
  },
  {
   "cell_type": "markdown",
   "source": [
    "### § **FORCE-CONTROLLED ANALYSIS**\r\n",
    "\r\n",
    "The first one looks like:\r\n",
    "$$\r\n",
    "R(v) = F - k v + K \\left( l(v)-l_0 \\right) \\frac{h-v}{l(v)}\r\n",
    "$$"
   ],
   "metadata": {}
  },
  {
   "cell_type": "markdown",
   "source": [
    "We also make a version of this with the approximation $l(v) \\approx l0$, so that we can observe it's validity on our problem."
   ],
   "metadata": {}
  },
  {
   "cell_type": "code",
   "execution_count": 19,
   "source": [
    "def R(F):\r\n",
    "    \"\"\"\r\n",
    "    Returns the residual function R(v). \r\n",
    "    Optimal for a force-controlled analysis, \r\n",
    "    where this function is called in succession \r\n",
    "    for different (probably increasing) load values.\r\n",
    "    \"\"\"\r\n",
    "    l0 = sqrt(h**2 + b**2)\r\n",
    "    def inner(v):\r\n",
    "        l = sqrt((h-v)**2 + b**2)\r\n",
    "        return F - k*v + EA*((l-l0)/l0)*((h-v)/l)\r\n",
    "    return inner\r\n",
    "\r\n",
    "def R_(F):\r\n",
    "    \"\"\"\r\n",
    "    Returns the residual function R(v). \r\n",
    "    Optimal for a force-controlled analysis, \r\n",
    "    where this function is called in succession \r\n",
    "    for different (probably increasing) load values.\r\n",
    "    This version assumes the validity of the \r\n",
    "    approximation |l < l0| << 1.\r\n",
    "    \"\"\"\r\n",
    "    l0 = sqrt(h**2 + b**2)\r\n",
    "    def inner(v):\r\n",
    "        l = sqrt((h-v)**2 + b**2)\r\n",
    "        return F - k*v + EA*((l-l0)/l0)*((h-v)/l0)\r\n",
    "    return inner"
   ],
   "outputs": [],
   "metadata": {}
  },
  {
   "cell_type": "markdown",
   "source": [
    "We use `scipy.optimize.newton` to find the roots of our equations. It needs to be fed with a callable object and an initial guess for the result: "
   ],
   "metadata": {}
  },
  {
   "cell_type": "code",
   "execution_count": 20,
   "source": [
    "# solution by findig roots of a nonlinear function\r\n",
    "v = newton(R(F), 0)\r\n",
    "print(\"A result of F = {} [kN] is the displacement v = {} [m].\".format(F, v))\r\n",
    "# solution by findig roots of a nonlinear function using the approximation l = l0\r\n",
    "v = newton(R_(F), 0)\r\n",
    "print(\"A result of F = {} [kN] is the displacement v = {} [m].\".format(F, v))"
   ],
   "outputs": [
    {
     "output_type": "stream",
     "name": "stdout",
     "text": [
      "A result of F = 1.5 [kN] is the displacement v = 1.1696187845864412 [m].\n",
      "A result of F = 1.5 [kN] is the displacement v = 1.1695310638900063 [m].\n"
     ]
    }
   ],
   "metadata": {}
  },
  {
   "cell_type": "markdown",
   "source": [
    "In certain circumstances, Newton's method can fail, so we create a wrapper function around `scipy`'s `newton` method that returns `None` if things go wrong during execution."
   ],
   "metadata": {}
  },
  {
   "cell_type": "code",
   "execution_count": 21,
   "source": [
    "def root(fnc, x0=0, verbose=False):\r\n",
    "    \"\"\"Returns None if things go wrong, returns the\r\n",
    "    root(s) of `fnc`. If `verbose` is `True` and \r\n",
    "    things go wrong, it prints the error message.\"\"\"\r\n",
    "    try:\r\n",
    "        return newton(fnc, x0)\r\n",
    "    except Exception as e:\r\n",
    "        if verbose:\r\n",
    "            print(e)\r\n",
    "        return None"
   ],
   "outputs": [],
   "metadata": {}
  },
  {
   "cell_type": "markdown",
   "source": [
    "We apply the force in small steps, and we execute the previous calculation. In every substep, the initial guess is the result of the last substep. We also plot the evolution of the force-displacement diagram using `matplotlib`."
   ],
   "metadata": {}
  },
  {
   "cell_type": "code",
   "execution_count": 22,
   "source": [
    "#k = 0.0  # overwrite the spring stiffness here if you want\r\n",
    "fig, ax = plt.subplots()\r\n",
    "nstep = 20\r\n",
    "ydata = [(i+1)*F/nstep for i in range(nstep)]\r\n",
    "xdata1, xdata2 = [], []\r\n",
    "ydata1, ydata2 = [], []\r\n",
    "v1, v2 = 0, 0\r\n",
    "v1_, v2_ = 0, 0\r\n",
    "\r\n",
    "for Fi in ydata:\r\n",
    "    v1_ = root(R(Fi), v1)\r\n",
    "    if v1_:\r\n",
    "        v1 = v1_\r\n",
    "        xdata1.append(v1)\r\n",
    "        ydata1.append(Fi)\r\n",
    "    v2_ = root(R_(Fi), v2)\r\n",
    "    if v2_:\r\n",
    "        v2 = v2_\r\n",
    "        xdata2.append(v2)\r\n",
    "        ydata2.append(Fi)\r\n",
    "        \r\n",
    "ax.plot(xdata1, ydata1, lw=1.0, color='k')\r\n",
    "markerline, stemlines, baseline = \\\r\n",
    "    ax.stem(ydata2, xdata2, basefmt='r-', orientation='horizontal', \\\r\n",
    "        linefmt='r--', markerfmt='bo', label=r\"$l \\approx l_0$\")\r\n",
    "plt.setp(stemlines, 'linewidth', 1)\r\n",
    "plt.setp(baseline, 'linewidth', 1)\r\n",
    "ax.set_xlabel('v [m]')\r\n",
    "ax.set_ylabel('F [kN]')\r\n",
    "ax.legend()\r\n",
    "ax.set_title('Force-controlled solution')\r\n",
    "plt.show()"
   ],
   "outputs": [
    {
     "output_type": "display_data",
     "data": {
      "image/png": "[encoded data removed]",
      "text/plain": [
       "<Figure size 432x288 with 1 Axes>"
      ]
     },
     "metadata": {
      "needs_background": "light"
     }
    }
   ],
   "metadata": {}
  },
  {
   "cell_type": "markdown",
   "source": [
    "The figure shows that approximation $l \\approx l0$ does not have a sigificant effect on the results of our model for this particular set of parameters. Try other parameters to investigate other possible scenarios."
   ],
   "metadata": {}
  },
  {
   "cell_type": "markdown",
   "source": [
    "### § **DISPLACEMENT-CONTROLLED ANALYSIS**\r\n",
    "\r\n",
    "The difference in the second function is that it considers the displacement to be known and the force to play the role of the unknown, but they basically evaluate the same expression:\r\n",
    "$$\r\n",
    "Q(F) = F - k v + K \\left( l(v)-l_0 \\right) \\frac{h-v}{l(v)}\r\n",
    "$$"
   ],
   "metadata": {}
  },
  {
   "cell_type": "markdown",
   "source": [
    "Again, we can measure the effect of the approximation $l(v) \\approx l0$."
   ],
   "metadata": {}
  },
  {
   "cell_type": "code",
   "execution_count": 23,
   "source": [
    "def Q(v):\r\n",
    "    \"\"\"\r\n",
    "    Returns the residual function Q(F). \r\n",
    "    Optimal for a force-controlled analysis, \r\n",
    "    where this function is called in succession \r\n",
    "    for different (probably increasing) displacement values.\r\n",
    "    \"\"\"\r\n",
    "    l0 = sqrt(h**2 + b**2)\r\n",
    "    def inner(F):\r\n",
    "        l = sqrt((h-v)**2 + b**2)\r\n",
    "        return F - k*v + EA*((l-l0)/l0)*((h-v)/l)\r\n",
    "    return inner\r\n",
    "\r\n",
    "def Q_(v):\r\n",
    "    \"\"\"\r\n",
    "    Returns the residual function Q(F). \r\n",
    "    Optimal for a force-controlled analysis, \r\n",
    "    where this function is called in succession \r\n",
    "    for different (probably increasing) displacement values.\r\n",
    "    his version assumes the validity of the \r\n",
    "    approximation |l < l0| << 1.\r\n",
    "    \"\"\"\r\n",
    "    l0 = sqrt(h**2 + b**2)\r\n",
    "    def inner(F):\r\n",
    "        l = sqrt((h-v)**2 + b**2)\r\n",
    "        return F - k*v + EA*((l-l0)/l0)*((h-v)/l0)\r\n",
    "    return inner"
   ],
   "outputs": [],
   "metadata": {}
  },
  {
   "cell_type": "markdown",
   "source": [
    "To find the roots, we use the same facility:"
   ],
   "metadata": {}
  },
  {
   "cell_type": "code",
   "execution_count": 24,
   "source": [
    "# solution by findig roots of a nonlinear function\r\n",
    "F = root(Q(v), 0)\r\n",
    "print(\"The reason of displacement v = {} [m] is the force F = {} [kN].\".format(v, F))"
   ],
   "outputs": [
    {
     "output_type": "stream",
     "name": "stdout",
     "text": [
      "The reason of displacement v = 1.1695310638900063 [m] is the force F = 1.4996736875114545 [kN].\n"
     ]
    }
   ],
   "metadata": {}
  },
  {
   "cell_type": "code",
   "execution_count": 25,
   "source": [
    "#k = 0.0  # overwrite the spring stiffness here if you want\r\n",
    "fig, ax = plt.subplots()\r\n",
    "nstep = 20\r\n",
    "xdata = [(i+1)*v/nstep for i in range(nstep)]\r\n",
    "xdata1, xdata2 = [], []\r\n",
    "ydata1, ydata2 = [], []\r\n",
    "F1, F2 = 0, 0\r\n",
    "F1_, F2_ = 0, 0\r\n",
    "\r\n",
    "for vi in xdata:\r\n",
    "    F1_ = root(Q(vi), F1)\r\n",
    "    if F1_:\r\n",
    "        F1 = F1_\r\n",
    "        xdata1.append(vi)\r\n",
    "        ydata1.append(F1)\r\n",
    "    F2_ = root(Q_(vi), F2)\r\n",
    "    if F2_:\r\n",
    "        F2 = F2_\r\n",
    "        xdata2.append(vi)\r\n",
    "        ydata2.append(F2)\r\n",
    "\r\n",
    "ax.plot(xdata1, ydata1, lw=1.0, color='k')\r\n",
    "markerline, stemlines, baseline = \\\r\n",
    "    ax.stem(xdata2, ydata2, basefmt='b-', orientation='vertical', \\\r\n",
    "        linefmt='b--', markerfmt='ro', label=r\"$l \\approx l_0$\")\r\n",
    "plt.setp(stemlines, 'linewidth', 1)\r\n",
    "plt.setp(baseline, 'linewidth', 1)\r\n",
    "ax.set_xlabel('v [m]')\r\n",
    "ax.set_ylabel('F [kN]')\r\n",
    "ax.legend()\r\n",
    "ax.set_title('Displacement-controlled solution')\r\n",
    "plt.show()"
   ],
   "outputs": [
    {
     "output_type": "display_data",
     "data": {
      "image/png": "[encoded data removed]",
      "text/plain": [
       "<Figure size 432x288 with 1 Axes>"
      ]
     },
     "metadata": {
      "needs_background": "light"
     }
    }
   ],
   "metadata": {}
  },
  {
   "cell_type": "markdown",
   "source": [
    "### § **SOLUTION WITH CUSTOM ERROR MEASURE**"
   ],
   "metadata": {}
  },
  {
   "cell_type": "markdown",
   "source": [
    " First we implement the custom error measures $G(v) = R(v)^2$ and $H(F) = Q(F)^2$:"
   ],
   "metadata": {}
  },
  {
   "cell_type": "code",
   "execution_count": 26,
   "source": [
    "residual1 = R(F)\r\n",
    "G = lambda x : residual1(x[0])**2\r\n",
    "# for displacement control\r\n",
    "residual2 = Q(v)\r\n",
    "H = lambda x : residual2(x[0])**2"
   ],
   "outputs": [],
   "metadata": {}
  },
  {
   "cell_type": "markdown",
   "source": [
    "Then we find the minimum of these using Powell's method presented by `scipy`:"
   ],
   "metadata": {}
  },
  {
   "cell_type": "code",
   "execution_count": 27,
   "source": [
    "# solution by minimizing an error measure\r\n",
    "v = minimize(G, [0], method='Powell', tol=1e-8).x[0]\r\n",
    "print(\"A result of F = {} [kN] is the displacement v = {} [m].\".format(F, v))"
   ],
   "outputs": [
    {
     "output_type": "stream",
     "name": "stdout",
     "text": [
      "A result of F = 1.4996736875114545 [kN] is the displacement v = 1.1695310638933072 [m].\n"
     ]
    }
   ],
   "metadata": {}
  },
  {
   "cell_type": "code",
   "execution_count": 28,
   "source": [
    "# solution by minimizing an error measure\r\n",
    "F = minimize(H, [0], method='Powell', tol=1e-8).x[0]\r\n",
    "print(\"The reason of displacement v = {} [m] is the force F = {} [kN].\".format(v, F))"
   ],
   "outputs": [
    {
     "output_type": "stream",
     "name": "stdout",
     "text": [
      "The reason of displacement v = 1.1695310638933072 [m] is the force F = 1.4996736875114545 [kN].\n"
     ]
    }
   ],
   "metadata": {}
  },
  {
   "cell_type": "markdown",
   "source": [
    "Now compare this solution against the previous displacement-controlled one."
   ],
   "metadata": {}
  },
  {
   "cell_type": "code",
   "execution_count": 29,
   "source": [
    "#k = 0.0\r\n",
    "fig, ax = plt.subplots()\r\n",
    "nstep = 20\r\n",
    "xdataG, xdataH = [], [(i+1)*v/nstep for i in range(nstep)]\r\n",
    "ydataG, ydataH = [(i+1)*F/nstep for i in range(nstep)], []\r\n",
    "\r\n",
    "v_, F_ = 0, 0\r\n",
    "for Fi, vi in zip(ydataG, xdataH):\r\n",
    "    ri = R(Fi)\r\n",
    "    Gi = lambda x : ri(x[0])**2\r\n",
    "    v_ = minimize(Gi, [v_], method='Powell', tol=1e-8).x[0]\r\n",
    "    xdataG.append(v_)\r\n",
    "    ri = Q(vi)\r\n",
    "    Hi = lambda x : ri(x[0])**2\r\n",
    "    F_ = minimize(Hi, [F_], method='Powell', tol=1e-8).x[0]\r\n",
    "    ydataH.append(F_)\r\n",
    "    \r\n",
    "ax.plot(xdata2, ydata2, lw=1.0, color='k')\r\n",
    "markerlineG, stemlinesG, baselineG = \\\r\n",
    "    ax.stem(ydataG, xdataG, basefmt='r-', orientation='horizontal', \\\r\n",
    "        linefmt='r--', markerfmt='bo')\r\n",
    "plt.setp(stemlinesG, 'linewidth', 1)\r\n",
    "plt.setp(baselineG, 'linewidth', 1)\r\n",
    "markerlineH, stemlinesH, baselineH = \\\r\n",
    "    ax.stem(xdataH, ydataH, basefmt='b-', orientation='vertical', \\\r\n",
    "        linefmt='b--', markerfmt='ro')\r\n",
    "plt.setp(stemlinesH, 'linewidth', 1)\r\n",
    "plt.setp(baselineH, 'linewidth', 1)\r\n",
    "ax.set_xlabel('v [m]')\r\n",
    "ax.set_ylabel('F [kN]')\r\n",
    "ax.set_title('Force- vs. displacement-controlled solution')\r\n",
    "plt.show()"
   ],
   "outputs": [
    {
     "output_type": "display_data",
     "data": {
      "image/png": "[encoded data removed]",
      "text/plain": [
       "<Figure size 432x288 with 1 Axes>"
      ]
     },
     "metadata": {
      "needs_background": "light"
     }
    }
   ],
   "metadata": {}
  },
  {
   "cell_type": "markdown",
   "source": [
    "## **ENERGY APPROACH**"
   ],
   "metadata": {}
  },
  {
   "cell_type": "markdown",
   "source": [
    "Below there is a simple implementation of the TPE functional\r\n",
    "$$\r\n",
    "\\mathbf{\\Pi}(v) = k v^2 + K \\Delta l(v)^2 - 2 F v\r\n",
    "$$"
   ],
   "metadata": {}
  },
  {
   "cell_type": "code",
   "execution_count": 30,
   "source": [
    "def TPE(F):\r\n",
    "    \"\"\"\r\n",
    "    Returns the function of the total potential energy.\r\n",
    "    The returned function takes displacements as inputs\r\n",
    "    and returns forces.\r\n",
    "    \"\"\"\r\n",
    "    l0 = sqrt(h**2 + b**2)\r\n",
    "    K = EA / l0\r\n",
    "    def inner(v):\r\n",
    "        # v is expected as an iterable\r\n",
    "        l = sqrt((h-v[0])**2 + b**2)\r\n",
    "        return K*(l-l0)**2 + k*v[0]**2 - 2*F*v[0]\r\n",
    "    return inner"
   ],
   "outputs": [],
   "metadata": {}
  },
  {
   "cell_type": "markdown",
   "source": [
    "To get the minimizer, we can use Powell's method again:"
   ],
   "metadata": {}
  },
  {
   "cell_type": "code",
   "execution_count": 31,
   "source": [
    "# solution by minimizing an error measure\r\n",
    "v = minimize(TPE(F), [0], method='Powell', tol=1e-8).x[0]\r\n",
    "print(\"A result of F = {} [kN] is the displacement v = {} [m].\".format(F, v))"
   ],
   "outputs": [
    {
     "output_type": "stream",
     "name": "stdout",
     "text": [
      "A result of F = 1.4996736875114545 [kN] is the displacement v = 1.169531025699906 [m].\n"
     ]
    }
   ],
   "metadata": {}
  },
  {
   "cell_type": "markdown",
   "source": [
    "We can create a simple plot with `matplotlib`:"
   ],
   "metadata": {}
  },
  {
   "cell_type": "code",
   "execution_count": 32,
   "source": [
    "#k = 0.\r\n",
    "fig, ax = plt.subplots()\r\n",
    "nstep = 20\r\n",
    "ydata = [(i+1)*F/nstep for i in range(nstep)]\r\n",
    "xdata = []\r\n",
    "v = 0\r\n",
    "for Fi in ydata:\r\n",
    "    v = minimize(TPE(Fi), [v], method='Powell', tol=1e-8).x[0]\r\n",
    "    xdata.append(v)\r\n",
    "ax.plot(xdata, ydata, color='b')    \r\n",
    "markerline, stemlines, baseline = \\\r\n",
    "    ax.stem(ydata, xdata, basefmt='k-', markerfmt='ko', linefmt='k--', \\\r\n",
    "        orientation='horizontal')\r\n",
    "plt.setp(stemlines, 'linewidth', 1)\r\n",
    "plt.setp(baseline, 'linewidth', 1)\r\n",
    "ax.set_xlabel('v [m]')\r\n",
    "ax.set_ylabel('F [kN]')\r\n",
    "ax.set_title('Force-controlled solution')\r\n",
    "plt.show()"
   ],
   "outputs": [
    {
     "output_type": "stream",
     "name": "stderr",
     "text": [
      "No handles with labels found to put in legend.\n"
     ]
    },
    {
     "output_type": "display_data",
     "data": {
      "image/png": "[encoded data removed]",
      "text/plain": [
       "<Figure size 432x288 with 1 Axes>"
      ]
     },
     "metadata": {
      "needs_background": "light"
     }
    }
   ],
   "metadata": {}
  }
 ],
 "metadata": {
  "orig_nbformat": 4,
  "language_info": {
   "name": "python",
   "version": "3.8.10",
   "mimetype": "text/x-python",
   "codemirror_mode": {
    "name": "ipython",
    "version": 3
   },
   "pygments_lexer": "ipython3",
   "nbconvert_exporter": "python",
   "file_extension": ".py"
  },
  "kernelspec": {
   "name": "python3",
   "display_name": "Python 3.8.10 64-bit"
  },
  "interpreter": {
   "hash": "e404b59586357c814bc0d3940e75d6763c00a48753b225b81f7716971b8e1741"
  }
 },
 "nbformat": 4,
 "nbformat_minor": 2
}