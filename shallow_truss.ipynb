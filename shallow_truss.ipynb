{
 "cells": [
  {
   "cell_type": "markdown",
   "source": [
    "# **NONLINEAR ANALYSIS OF A SHALLOW TRUSS**\r\n",
    "***"
   ],
   "metadata": {}
  },
  {
   "cell_type": "markdown",
   "source": [
    "This a matter of taste, but we usually tend to do all our `import` statements at the beginning of a session. This practice makes it easy to see the dependencies of a notebook at the get-go, and also helps you to write well organized code."
   ],
   "metadata": {}
  },
  {
   "cell_type": "code",
   "execution_count": 1,
   "source": [
    "from numpy import sqrt\r\n",
    "from scipy.optimize import newton, minimize\r\n",
    "import matplotlib.pyplot as plt"
   ],
   "outputs": [],
   "metadata": {}
  },
  {
   "cell_type": "markdown",
   "source": [
    "First, we declare some constants that are assumed to be fixed through the session.\r\n",
    "In most cases we are working with only numbers, so it is good practice to explicitly declare the base units that are used, so that other units can be derived from them."
   ],
   "metadata": {}
  },
  {
   "cell_type": "markdown",
   "source": [
    "> In this notebook, we are going to use units of $m$ and $kN$."
   ],
   "metadata": {}
  },
  {
   "cell_type": "code",
   "execution_count": 2,
   "source": [
    "# Units are understood in [kN] and [m]\r\n",
    "b = 10.  # half of the total width of the structure in [m]\r\n",
    "h = 0.5  # initial height of the structure in [m]\r\n",
    "EA = 5000.  # <Young's modulus> * <Cross sectional area> in [kN/m2]\r\n",
    "k = 1.  # spring stiffness [kN/m]\r\n",
    "F = 1.5  # applied load in [kN]\r\n",
    "v = 0.  # initial guess of the displacement in [m]\r\n",
    "\r\n",
    "\"\"\"\r\n",
    "{place additional instructions here explaining usage}\r\n",
    "\"\"\""
   ],
   "outputs": [
    {
     "output_type": "execute_result",
     "data": {
      "text/plain": [
       "'\\n{place additional instructions here explaining usage}\\n'"
      ]
     },
     "metadata": {},
     "execution_count": 2
    }
   ],
   "metadata": {}
  },
  {
   "cell_type": "markdown",
   "source": [
    "> It's good practice to always write [docstrings](https://www.programiz.com/python-programming/docstrings#:~:text=Python%20docstrings%20are%20the%20string%20literals%20that%20appear,%28%29%20as%20it%20appears%20right%20after%20its%20definition.) for your functions. You might think that you should only do this for a possible audience, but later you will thank me if you get used to writing docstrings."
   ],
   "metadata": {}
  },
  {
   "cell_type": "code",
   "execution_count": 3,
   "source": [
    "def R(F):\r\n",
    "    \"\"\"\r\n",
    "    Returns the residual for a candidate solution. \r\n",
    "    Optimal for a force-controlled scenario.\r\n",
    "    \"\"\"\r\n",
    "    l0 = sqrt(h**2 + b**2)\r\n",
    "    def inner(v):\r\n",
    "        l = sqrt((h-v)**2 + b**2)\r\n",
    "        return F - k*v + EA*((l-l0)/l0)*((h-v)/l0)\r\n",
    "    return inner"
   ],
   "outputs": [],
   "metadata": {}
  },
  {
   "cell_type": "code",
   "execution_count": 4,
   "source": [
    "# solution by findig roots of a nonlinear function\r\n",
    "residual = R(F)\r\n",
    "v0 = 0  # initial solution\r\n",
    "v = newton(residual, v0)\r\n",
    "print(\"A result of F = {F} [kN] is the displacement v = {v} [m].\")"
   ],
   "outputs": [
    {
     "output_type": "stream",
     "name": "stdout",
     "text": [
      "A result of F = {F} [kN] is the displacement v = {v} [m].\n"
     ]
    }
   ],
   "metadata": {}
  },
  {
   "cell_type": "code",
   "execution_count": 5,
   "source": [
    "def Q(v):\r\n",
    "    \"\"\"\r\n",
    "    Returns the residual for a candidate solution. \r\n",
    "    Optimal for a displacement-controlled scenario.\r\n",
    "    \"\"\"\r\n",
    "    l0 = sqrt(h**2 + b**2)\r\n",
    "    def inner(F):\r\n",
    "        l = sqrt((h-v)**2 + b**2)\r\n",
    "        return F - k*v + EA*((l-l0)/l0)*((h-v)/l0)\r\n",
    "    return inner"
   ],
   "outputs": [],
   "metadata": {}
  },
  {
   "cell_type": "code",
   "execution_count": 6,
   "source": [
    "# solution by findig roots of a nonlinear function\r\n",
    "residual = Q(v)\r\n",
    "F0 = 0  # initial solution\r\n",
    "F = newton(residual, F0)\r\n",
    "print(\"The reason of displacement v = {v} [m] is the force F = {F} [kN].\")"
   ],
   "outputs": [
    {
     "output_type": "stream",
     "name": "stdout",
     "text": [
      "The reason of displacement v = {v} [m] is the force F = {F} [kN].\n"
     ]
    }
   ],
   "metadata": {}
  },
  {
   "cell_type": "code",
   "execution_count": 7,
   "source": [
    "residual = R(F)\r\n",
    "error = lambda x : residual(x[0])**2"
   ],
   "outputs": [],
   "metadata": {}
  },
  {
   "cell_type": "code",
   "execution_count": 8,
   "source": [
    "# solution by minimizing an error measure\r\n",
    "v = minimize(error, [0], method='Nelder-Mead', tol=1e-8).x[0]\r\n",
    "print(\"A result of F = {F} [kN] is the displacement v = {v} [m].\")"
   ],
   "outputs": [
    {
     "output_type": "stream",
     "name": "stdout",
     "text": [
      "A result of F = {F} [kN] is the displacement v = {v} [m].\n"
     ]
    }
   ],
   "metadata": {}
  },
  {
   "cell_type": "code",
   "execution_count": 9,
   "source": [
    "def TPE(F):\r\n",
    "    \"\"\"\r\n",
    "    Returns the residual for a candidate solution. \r\n",
    "    Optimal for a force-controlled scenario.\r\n",
    "    \"\"\"\r\n",
    "    l0 = sqrt(h**2 + b**2)\r\n",
    "    K = EA / l0\r\n",
    "    def inner(v):\r\n",
    "        # v is expected as an iterable\r\n",
    "        l = sqrt((h-v[0])**2 + b**2)\r\n",
    "        return K*(l-l0)**2 + k*v[0]**2 - 2*F*v[0]\r\n",
    "    return inner"
   ],
   "outputs": [],
   "metadata": {}
  },
  {
   "cell_type": "code",
   "execution_count": 10,
   "source": [
    "# solution by minimizing an error measure\r\n",
    "v = minimize(TPE(F), [0], method='Nelder-Mead', tol=1e-8).x[0]\r\n",
    "print(\"A result of F = {F} [kN] is the displacement v = {v} [m].\")"
   ],
   "outputs": [
    {
     "output_type": "stream",
     "name": "stdout",
     "text": [
      "A result of F = {F} [kN] is the displacement v = {v} [m].\n"
     ]
    }
   ],
   "metadata": {}
  }
 ],
 "metadata": {
  "orig_nbformat": 4,
  "language_info": {
   "name": "python",
   "version": "3.8.10",
   "mimetype": "text/x-python",
   "codemirror_mode": {
    "name": "ipython",
    "version": 3
   },
   "pygments_lexer": "ipython3",
   "nbconvert_exporter": "python",
   "file_extension": ".py"
  },
  "kernelspec": {
   "name": "python3",
   "display_name": "Python 3.8.10 64-bit"
  },
  "interpreter": {
   "hash": "e404b59586357c814bc0d3940e75d6763c00a48753b225b81f7716971b8e1741"
  }
 },
 "nbformat": 4,
 "nbformat_minor": 2
}