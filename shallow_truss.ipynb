{
 "cells": [
  {
   "cell_type": "markdown",
   "source": [
    "# **NONLINEAR ANALYSIS OF A SHALLOW TRUSS**\r\n",
    "***"
   ],
   "metadata": {}
  },
  {
   "cell_type": "markdown",
   "source": [
    "<img src=\"img/shallow_truss_0.jpg\" width=350 height=250 /> \r\n",
    "<img src=\"img/shallow_truss_1.jpg\" width=250 height=125 />"
   ],
   "metadata": {}
  },
  {
   "cell_type": "code",
   "execution_count": 2,
   "source": [
    "from numpy import sqrt\r\n",
    "from scipy.optimize import newton, minimize\r\n",
    "import matplotlib.pyplot as plt"
   ],
   "outputs": [],
   "metadata": {}
  },
  {
   "cell_type": "code",
   "execution_count": 3,
   "source": [
    "# Units are understood in [kN] and [m]\r\n",
    "b = 10.  # half of the total width of the structure in [m]\r\n",
    "h = 0.5  # initial height of the structure in [m]\r\n",
    "EA = 5000.  # <Young's modulus> * <Cross sectional area> in [kN/m2]\r\n",
    "k = 1.0  # spring stiffness [kN/m]\r\n",
    "F = 1.5  # applied load in [kN]\r\n",
    "v = 0.  # initial guess of the displacement in [m]"
   ],
   "outputs": [],
   "metadata": {}
  },
  {
   "cell_type": "markdown",
   "source": [
    "## **EQUILIBRIUM APPROACH**"
   ],
   "metadata": {}
  },
  {
   "cell_type": "markdown",
   "source": [
    "We use the equilibrium equations to create two residual functions, one for force-controlled and another for displacement-controlled calculations."
   ],
   "metadata": {}
  },
  {
   "cell_type": "markdown",
   "source": [
    "### §**FORCE-CONTROL**\r\n",
    "\r\n",
    "The first one looks like:\r\n",
    "$$\r\n",
    "R(v) = F - k v + K \\left( l(v)-l_0 \\right) \\frac{h-v}{l(v)}\r\n",
    "$$"
   ],
   "metadata": {}
  },
  {
   "cell_type": "markdown",
   "source": [
    "We also make a version of this with the approximation $l(v) \\approx l0$, so that we can observe it's validity on our problem."
   ],
   "metadata": {}
  },
  {
   "cell_type": "code",
   "execution_count": 4,
   "source": [
    "def R(F):\r\n",
    "    \"\"\"\r\n",
    "    Returns the residual function R(v). \r\n",
    "    Optimal for a force-controlled analysis, \r\n",
    "    where this function is called in succession \r\n",
    "    for different (probably increasing) load values.\r\n",
    "    \"\"\"\r\n",
    "    l0 = sqrt(h**2 + b**2)\r\n",
    "    def inner(v):\r\n",
    "        l = sqrt((h-v)**2 + b**2)\r\n",
    "        return F - k*v + EA*((l-l0)/l0)*((h-v)/l)\r\n",
    "    return inner\r\n",
    "\r\n",
    "def R_(F):\r\n",
    "    \"\"\"\r\n",
    "    Returns the residual function R(v). \r\n",
    "    Optimal for a force-controlled analysis, \r\n",
    "    where this function is called in succession \r\n",
    "    for different (probably increasing) load values.\r\n",
    "    This version assumes the validity of the \r\n",
    "    approximation |l < l0| << 1.\r\n",
    "    \"\"\"\r\n",
    "    l0 = sqrt(h**2 + b**2)\r\n",
    "    def inner(v):\r\n",
    "        l = sqrt((h-v)**2 + b**2)\r\n",
    "        return F - k*v + EA*((l-l0)/l0)*((h-v)/l0)\r\n",
    "    return inner"
   ],
   "outputs": [],
   "metadata": {}
  },
  {
   "cell_type": "markdown",
   "source": [
    "We use `scipy.optimize.newton` to find the roots of our equations. It needs to be fed with a callable object and an initial guess for the result: "
   ],
   "metadata": {}
  },
  {
   "cell_type": "code",
   "execution_count": 5,
   "source": [
    "# solution by findig roots of a nonlinear function\r\n",
    "v = newton(R(F), 0)\r\n",
    "print(\"A result of F = {} [kN] is the displacement v = {} [m].\".format(F, v))\r\n",
    "# solution by findig roots of a nonlinear function using the approximation l = l0\r\n",
    "v = newton(R_(F), 0)\r\n",
    "print(\"A result of F = {} [kN] is the displacement v = {} [m].\".format(F, v))"
   ],
   "outputs": [
    {
     "output_type": "stream",
     "name": "stdout",
     "text": [
      "A result of F = 1.5 [kN] is the displacement v = 1.1696187845864412 [m].\n",
      "A result of F = 1.5 [kN] is the displacement v = 1.1695310638900063 [m].\n"
     ]
    }
   ],
   "metadata": {}
  },
  {
   "cell_type": "markdown",
   "source": [
    "We apply the force in small steps, and we execute the previous calculation. In every substep, the initial guess is the result of the last substep. We also plot the evolution of the force-displacement diagram using `matplotlib`."
   ],
   "metadata": {}
  },
  {
   "cell_type": "code",
   "execution_count": 6,
   "source": [
    "#k = 0.0\r\n",
    "fig, ax = plt.subplots()\r\n",
    "nstep = 20\r\n",
    "ydata = [(i+1)*F/nstep for i in range(nstep)]\r\n",
    "xdata, _xdata = [], []\r\n",
    "v, _v = 0, 0\r\n",
    "for Fi in ydata:\r\n",
    "    v = newton(R(Fi), v)\r\n",
    "    xdata.append(v)\r\n",
    "    _v = newton(R_(Fi), _v)\r\n",
    "    _xdata.append(_v)\r\n",
    "ax.plot(xdata, ydata, dashes=[4, 3], color='red')\r\n",
    "ax.stem(ydata, _xdata, label=r\"$l \\approx l_0$\", basefmt='', orientation='horizontal')\r\n",
    "ax.set_xlabel('v [m]')\r\n",
    "ax.set_ylabel('F [kN]')\r\n",
    "ax.legend()\r\n",
    "ax.set_title('Force-controlled solution')\r\n",
    "plt.show()"
   ],
   "outputs": [
    {
     "output_type": "display_data",
     "data": {
      "image/png": "[encoded data removed]",
      "text/plain": [
       "<Figure size 432x288 with 1 Axes>"
      ]
     },
     "metadata": {
      "needs_background": "light"
     }
    }
   ],
   "metadata": {}
  },
  {
   "cell_type": "markdown",
   "source": [
    "The figure shows that approximation $l \\approx l0$ does not have a sigificant effect on the results of our model for this particular set of parameters. Try other parameters to investigate other possible scenarios."
   ],
   "metadata": {}
  },
  {
   "cell_type": "markdown",
   "source": [
    "### §**DISPLACEMENT-CONTROL**\r\n",
    "\r\n",
    "The difference in the second function is that it considers the displacement to be known and the force to play the role of the unknown, but they basically evaluate the same expression:\r\n",
    "$$\r\n",
    "Q(F) = F - k v + K \\left( l(v)-l_0 \\right) \\frac{h-v}{l(v)}\r\n",
    "$$"
   ],
   "metadata": {}
  },
  {
   "cell_type": "markdown",
   "source": [
    "Again, we can measure the effect of the approximation $l(v) \\approx l0$."
   ],
   "metadata": {}
  },
  {
   "cell_type": "code",
   "execution_count": 7,
   "source": [
    "def Q(v):\r\n",
    "    \"\"\"\r\n",
    "    Returns the residual for a candidate solution. \r\n",
    "    Optimal for a displacement-controlled scenario.\r\n",
    "    \"\"\"\r\n",
    "    l0 = sqrt(h**2 + b**2)\r\n",
    "    def inner(F):\r\n",
    "        l = sqrt((h-v)**2 + b**2)\r\n",
    "        return F - k*v + EA*((l-l0)/l0)*((h-v)/l)\r\n",
    "    return inner\r\n",
    "\r\n",
    "def Q_(v):\r\n",
    "    \"\"\"\r\n",
    "    Returns the residual for a candidate solution. \r\n",
    "    Optimal for a displacement-controlled scenario.\r\n",
    "    \"\"\"\r\n",
    "    l0 = sqrt(h**2 + b**2)\r\n",
    "    def inner(F):\r\n",
    "        l = sqrt((h-v)**2 + b**2)\r\n",
    "        return F - k*v + EA*((l-l0)/l0)*((h-v)/l0)\r\n",
    "    return inner"
   ],
   "outputs": [],
   "metadata": {}
  },
  {
   "cell_type": "markdown",
   "source": [
    "To find the roots, we use the same facility:"
   ],
   "metadata": {}
  },
  {
   "cell_type": "code",
   "execution_count": 8,
   "source": [
    "# solution by findig roots of a nonlinear function\r\n",
    "F = newton(Q(v), 0)\r\n",
    "print(\"The reason of displacement v = {} [m] is the force F = {} [kN].\".format(v, F))"
   ],
   "outputs": [
    {
     "output_type": "stream",
     "name": "stdout",
     "text": [
      "The reason of displacement v = 1.169618784586734 [m] is the force F = 1.500000000001057 [kN].\n"
     ]
    }
   ],
   "metadata": {}
  },
  {
   "cell_type": "code",
   "execution_count": 9,
   "source": [
    "#k = 0.0\r\n",
    "fig, ax = plt.subplots()\r\n",
    "nstep = 20\r\n",
    "xdata = [(i+1)*v/nstep for i in range(nstep)]\r\n",
    "ydata, _ydata = [], []\r\n",
    "F, _F = 0, 0\r\n",
    "for vi in xdata:\r\n",
    "    F = newton(Q(vi), F)\r\n",
    "    ydata.append(F)\r\n",
    "    _F = newton(Q_(vi), _F)\r\n",
    "    _ydata.append(_F)\r\n",
    "ax.plot(xdata, ydata, dashes=[4, 3], color='red')\r\n",
    "ax.stem(xdata, _ydata, label=r\"$l \\approx l_0$\", basefmt='')\r\n",
    "ax.set_xlabel('v [m]')\r\n",
    "ax.set_ylabel('F [kN]')\r\n",
    "ax.legend()\r\n",
    "ax.set_title('Displacement-controlled solution')\r\n",
    "plt.show()"
   ],
   "outputs": [
    {
     "output_type": "display_data",
     "data": {
      "image/png": "[encoded data removed]",
      "text/plain": [
       "<Figure size 432x288 with 1 Axes>"
      ]
     },
     "metadata": {
      "needs_background": "light"
     }
    }
   ],
   "metadata": {}
  },
  {
   "cell_type": "markdown",
   "source": [
    "### §**ERROR MEASURE**"
   ],
   "metadata": {}
  },
  {
   "cell_type": "code",
   "execution_count": 10,
   "source": [
    "residual = R(F)\r\n",
    "error = lambda x : residual(x[0])**2"
   ],
   "outputs": [],
   "metadata": {}
  },
  {
   "cell_type": "code",
   "execution_count": 11,
   "source": [
    "# solution by minimizing an error measure\r\n",
    "v = minimize(error, [0], method='Nelder-Mead', tol=1e-8).x[0]\r\n",
    "print(\"A result of F = {} [kN] is the displacement v = {} [m].\".format(F, v))"
   ],
   "outputs": [
    {
     "output_type": "stream",
     "name": "stdout",
     "text": [
      "A result of F = 1.500000000001057 [kN] is the displacement v = 1.1696187820434583 [m].\n"
     ]
    }
   ],
   "metadata": {}
  },
  {
   "cell_type": "markdown",
   "source": [
    "## **ENERGY APPROACH**"
   ],
   "metadata": {}
  },
  {
   "cell_type": "code",
   "execution_count": 12,
   "source": [
    "def TPE(F):\r\n",
    "    \"\"\"\r\n",
    "    Returns the residual for a candidate solution. \r\n",
    "    Optimal for a force-controlled scenario.\r\n",
    "    \"\"\"\r\n",
    "    l0 = sqrt(h**2 + b**2)\r\n",
    "    K = EA / l0\r\n",
    "    def inner(v):\r\n",
    "        # v is expected as an iterable\r\n",
    "        l = sqrt((h-v[0])**2 + b**2)\r\n",
    "        return K*(l-l0)**2 + k*v[0]**2 - 2*F*v[0]\r\n",
    "    return inner"
   ],
   "outputs": [],
   "metadata": {}
  },
  {
   "cell_type": "code",
   "execution_count": 13,
   "source": [
    "# solution by minimizing an error measure\r\n",
    "v = minimize(TPE(F), [0], method='Nelder-Mead', tol=1e-8).x[0]\r\n",
    "print(\"A result of F = {} [kN] is the displacement v = {} [m].\".format(F, v))"
   ],
   "outputs": [
    {
     "output_type": "stream",
     "name": "stdout",
     "text": [
      "A result of F = 1.500000000001057 [kN] is the displacement v = 1.1696187744140638 [m].\n"
     ]
    }
   ],
   "metadata": {}
  },
  {
   "cell_type": "code",
   "execution_count": 14,
   "source": [
    "#k = 0.\r\n",
    "fig, ax = plt.subplots()\r\n",
    "nstep = 20\r\n",
    "ydata = [(i+1)*F/nstep for i in range(nstep)]\r\n",
    "xdata = []\r\n",
    "v = 0\r\n",
    "for Fi in ydata:\r\n",
    "    v = minimize(TPE(Fi), [v], method='Nelder-Mead', tol=1e-8).x[0]\r\n",
    "    xdata.append(v)\r\n",
    "ax.plot(xdata, ydata, color='b')    \r\n",
    "markerline, stemlines, baseline = \\\r\n",
    "    ax.stem(xdata, ydata, basefmt='k-', markerfmt='ko', linefmt='k--')\r\n",
    "plt.setp(stemlines, 'linewidth', 1)\r\n",
    "plt.setp(baseline, 'linewidth', 1)\r\n",
    "ax.set_xlabel('v [m]')\r\n",
    "ax.set_ylabel('F [kN]')\r\n",
    "ax.legend()\r\n",
    "ax.set_title('Displacement-controlled solution')\r\n",
    "plt.show()"
   ],
   "outputs": [
    {
     "output_type": "stream",
     "name": "stderr",
     "text": [
      "No handles with labels found to put in legend.\n"
     ]
    },
    {
     "output_type": "display_data",
     "data": {
      "image/png": "[encoded data removed]",
      "text/plain": [
       "<Figure size 432x288 with 1 Axes>"
      ]
     },
     "metadata": {
      "needs_background": "light"
     }
    }
   ],
   "metadata": {}
  }
 ],
 "metadata": {
  "orig_nbformat": 4,
  "language_info": {
   "name": "python",
   "version": "3.8.10",
   "mimetype": "text/x-python",
   "codemirror_mode": {
    "name": "ipython",
    "version": 3
   },
   "pygments_lexer": "ipython3",
   "nbconvert_exporter": "python",
   "file_extension": ".py"
  },
  "kernelspec": {
   "name": "python3",
   "display_name": "Python 3.8.10 64-bit"
  },
  "interpreter": {
   "hash": "e404b59586357c814bc0d3940e75d6763c00a48753b225b81f7716971b8e1741"
  }
 },
 "nbformat": 4,
 "nbformat_minor": 2
}