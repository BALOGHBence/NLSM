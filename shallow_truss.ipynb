{
 "cells": [
  {
   "cell_type": "markdown",
   "source": [
    "# **NONLINEAR ANALYSIS OF A SHALLOW TRUSS**\r\n",
    "***"
   ],
   "metadata": {}
  },
  {
   "cell_type": "code",
   "execution_count": 191,
   "source": [
    "from numpy import sqrt\r\n",
    "from scipy.optimize import newton, minimize\r\n",
    "import matplotlib.pyplot as plt"
   ],
   "outputs": [],
   "metadata": {}
  },
  {
   "cell_type": "code",
   "execution_count": 192,
   "source": [
    "# Units are understood in [kN] and [m]\r\n",
    "b = 10.  # half of the total width of the structure in [m]\r\n",
    "h = 0.5  # initial height of the structure in [m]\r\n",
    "EA = 5000.  # <Young's modulus> * <Cross sectional area> in [kN/m2]\r\n",
    "k = 1.0  # spring stiffness [kN/m]\r\n",
    "F = 1.5  # applied load in [kN]\r\n",
    "v = 0.  # initial guess of the displacement in [m]"
   ],
   "outputs": [],
   "metadata": {}
  },
  {
   "cell_type": "code",
   "execution_count": 193,
   "source": [
    "def R(F):\r\n",
    "    \"\"\"\r\n",
    "    Returns the residual for a candidate solution. \r\n",
    "    Optimal for a force-controlled scenario.\r\n",
    "    \"\"\"\r\n",
    "    l0 = sqrt(h**2 + b**2)\r\n",
    "    def inner(v):\r\n",
    "        l = sqrt((h-v)**2 + b**2)\r\n",
    "        return F - k*v + EA*((l-l0)/l0)*((h-v)/l0)\r\n",
    "    return inner"
   ],
   "outputs": [],
   "metadata": {}
  },
  {
   "cell_type": "code",
   "execution_count": 194,
   "source": [
    "# solution by findig roots of a nonlinear function\r\n",
    "residual = R(F)\r\n",
    "v = newton(residual, 0)\r\n",
    "print(\"A result of F = {} [kN] is the displacement v = {} [m].\".format(F, v))"
   ],
   "outputs": [
    {
     "output_type": "stream",
     "name": "stdout",
     "text": [
      "A result of F = 1.5 [kN] is the displacement v = 1.1695310638900063 [m].\n"
     ]
    }
   ],
   "metadata": {}
  },
  {
   "cell_type": "code",
   "execution_count": 195,
   "source": [
    "#k = 0.\r\n",
    "nstep = 20\r\n",
    "ydata = [i*F/nstep for i in range(nstep)]\r\n",
    "xdata = []\r\n",
    "v = 0\r\n",
    "for Fi in ydata:\r\n",
    "    v = newton(R(Fi), v)\r\n",
    "    xdata.append(v)\r\n",
    "plt.plot(xdata, ydata);"
   ],
   "outputs": [
    {
     "output_type": "display_data",
     "data": {
      "image/png": "[encoded data removed]",
      "text/plain": [
       "<Figure size 432x288 with 1 Axes>"
      ]
     },
     "metadata": {
      "needs_background": "light"
     }
    }
   ],
   "metadata": {}
  },
  {
   "cell_type": "code",
   "execution_count": 196,
   "source": [
    "def Q(v):\r\n",
    "    \"\"\"\r\n",
    "    Returns the residual for a candidate solution. \r\n",
    "    Optimal for a displacement-controlled scenario.\r\n",
    "    \"\"\"\r\n",
    "    l0 = sqrt(h**2 + b**2)\r\n",
    "    def inner(F):\r\n",
    "        l = sqrt((h-v)**2 + b**2)\r\n",
    "        return F - k*v + EA*((l-l0)/l0)*((h-v)/l0)\r\n",
    "    return inner"
   ],
   "outputs": [],
   "metadata": {}
  },
  {
   "cell_type": "code",
   "execution_count": 197,
   "source": [
    "# solution by findig roots of a nonlinear function\r\n",
    "residual = Q(v)\r\n",
    "F0 = 0  # initial solution\r\n",
    "F = newton(residual, F0)\r\n",
    "print(\"The reason of displacement v = {} [m] is the force F = {} [kN].\".format(v, F))"
   ],
   "outputs": [
    {
     "output_type": "stream",
     "name": "stdout",
     "text": [
      "The reason of displacement v = 1.1488247530588318 [m] is the force F = 1.4249999999999738 [kN].\n"
     ]
    }
   ],
   "metadata": {}
  },
  {
   "cell_type": "code",
   "execution_count": 198,
   "source": [
    "#k = 0.\r\n",
    "nstep = 20\r\n",
    "xdata = [(i+1)*v/nstep for i in range(nstep)]\r\n",
    "ydata = []\r\n",
    "F = 0\r\n",
    "for vi in xdata:\r\n",
    "    F = newton(Q(vi), F)\r\n",
    "    ydata.append(F)\r\n",
    "plt.plot(xdata, ydata);"
   ],
   "outputs": [
    {
     "output_type": "display_data",
     "data": {
      "image/png": "[encoded data removed]",
      "text/plain": [
       "<Figure size 432x288 with 1 Axes>"
      ]
     },
     "metadata": {
      "needs_background": "light"
     }
    }
   ],
   "metadata": {}
  },
  {
   "cell_type": "code",
   "execution_count": 199,
   "source": [
    "residual = R(F)\r\n",
    "error = lambda x : residual(x[0])**2"
   ],
   "outputs": [],
   "metadata": {}
  },
  {
   "cell_type": "code",
   "execution_count": 200,
   "source": [
    "# solution by minimizing an error measure\r\n",
    "v = minimize(error, [0], method='Nelder-Mead', tol=1e-8).x[0]\r\n",
    "print(\"A result of F = {} [kN] is the displacement v = {} [m].\".format(F, v))"
   ],
   "outputs": [
    {
     "output_type": "stream",
     "name": "stdout",
     "text": [
      "A result of F = 1.4249999999999736 [kN] is the displacement v = 1.1488247528076183 [m].\n"
     ]
    }
   ],
   "metadata": {}
  },
  {
   "cell_type": "code",
   "execution_count": 201,
   "source": [
    "def TPE(F):\r\n",
    "    \"\"\"\r\n",
    "    Returns the residual for a candidate solution. \r\n",
    "    Optimal for a force-controlled scenario.\r\n",
    "    \"\"\"\r\n",
    "    l0 = sqrt(h**2 + b**2)\r\n",
    "    K = EA / l0\r\n",
    "    def inner(v):\r\n",
    "        # v is expected as an iterable\r\n",
    "        l = sqrt((h-v[0])**2 + b**2)\r\n",
    "        return K*(l-l0)**2 + k*v[0]**2 - 2*F*v[0]\r\n",
    "    return inner"
   ],
   "outputs": [],
   "metadata": {}
  },
  {
   "cell_type": "code",
   "execution_count": 202,
   "source": [
    "# solution by minimizing an error measure\r\n",
    "v = minimize(TPE(F), [0], method='Nelder-Mead', tol=1e-8).x[0]\r\n",
    "print(\"A result of F = {} [kN] is the displacement v = {} [m].\".format(F, v))"
   ],
   "outputs": [
    {
     "output_type": "stream",
     "name": "stdout",
     "text": [
      "A result of F = 1.4249999999999736 [kN] is the displacement v = 1.1488916473388684 [m].\n"
     ]
    }
   ],
   "metadata": {}
  },
  {
   "cell_type": "code",
   "execution_count": 203,
   "source": [
    "#k = 0.\r\n",
    "nstep = 20\r\n",
    "ydata = [i*F/nstep for i in range(nstep)]\r\n",
    "xdata = []\r\n",
    "v = 0\r\n",
    "for Fi in ydata:\r\n",
    "    v = minimize(TPE(Fi), [v], method='Nelder-Mead', tol=1e-8).x[0]\r\n",
    "    xdata.append(v)\r\n",
    "plt.plot(xdata, ydata);"
   ],
   "outputs": [
    {
     "output_type": "display_data",
     "data": {
      "image/png": "[encoded data removed]",
      "text/plain": [
       "<Figure size 432x288 with 1 Axes>"
      ]
     },
     "metadata": {
      "needs_background": "light"
     }
    }
   ],
   "metadata": {}
  }
 ],
 "metadata": {
  "orig_nbformat": 4,
  "language_info": {
   "name": "python",
   "version": "3.8.10",
   "mimetype": "text/x-python",
   "codemirror_mode": {
    "name": "ipython",
    "version": 3
   },
   "pygments_lexer": "ipython3",
   "nbconvert_exporter": "python",
   "file_extension": ".py"
  },
  "kernelspec": {
   "name": "python3",
   "display_name": "Python 3.8.10 64-bit"
  },
  "interpreter": {
   "hash": "e404b59586357c814bc0d3940e75d6763c00a48753b225b81f7716971b8e1741"
  }
 },
 "nbformat": 4,
 "nbformat_minor": 2
}